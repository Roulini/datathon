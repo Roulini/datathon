{
 "metadata": {
  "language_info": {
   "codemirror_mode": {
    "name": "ipython",
    "version": 3
   },
   "file_extension": ".py",
   "mimetype": "text/x-python",
   "name": "python",
   "nbconvert_exporter": "python",
   "pygments_lexer": "ipython3",
   "version": "3.7.9-final"
  },
  "orig_nbformat": 2,
  "kernelspec": {
   "name": "python3",
   "display_name": "Python 3"
  }
 },
 "nbformat": 4,
 "nbformat_minor": 2,
 "cells": [
  {
   "cell_type": "code",
   "execution_count": 68,
   "metadata": {},
   "outputs": [
    {
     "output_type": "execute_result",
     "data": {
      "text/plain": [
       "   Identifiant arc            Libelle  Date et heure de comptage  \\\n",
       "0             4264  AV_Champs_Elysees  2020-11-02 05:00:00+01:00   \n",
       "1             4264  AV_Champs_Elysees  2020-11-01 23:00:00+01:00   \n",
       "2             4264  AV_Champs_Elysees  2020-07-01 16:00:00+02:00   \n",
       "3             4264  AV_Champs_Elysees  2020-07-01 22:00:00+02:00   \n",
       "4             4264  AV_Champs_Elysees  2020-08-05 03:00:00+02:00   \n",
       "\n",
       "   Débit horaire  Taux d'occupation Etat trafic  Identifiant noeud amont  \\\n",
       "0          144.0            2.25611      Fluide                     2294   \n",
       "1          245.0            8.11222      Fluide                     2294   \n",
       "2         1138.0           17.86611  Pré-saturé                     2294   \n",
       "3          880.0           16.03611  Pré-saturé                     2294   \n",
       "4          487.0            6.35389      Fluide                     2294   \n",
       "\n",
       "            Libelle noeud amont  Identifiant noeud aval  \\\n",
       "0  Av_Champs_Elysees-Washington                    2293   \n",
       "1  Av_Champs_Elysees-Washington                    2293   \n",
       "2  Av_Champs_Elysees-Washington                    2293   \n",
       "3  Av_Champs_Elysees-Washington                    2293   \n",
       "4  Av_Champs_Elysees-Washington                    2293   \n",
       "\n",
       "        Libelle noeud aval  Etat arc Date debut dispo data  \\\n",
       "0  Av_Champs_Elysees-Berri  Invalide            2005-01-01   \n",
       "1  Av_Champs_Elysees-Berri  Invalide            2005-01-01   \n",
       "2  Av_Champs_Elysees-Berri  Invalide            2005-01-01   \n",
       "3  Av_Champs_Elysees-Berri  Invalide            2005-01-01   \n",
       "4  Av_Champs_Elysees-Berri  Invalide            2005-01-01   \n",
       "\n",
       "  Date fin dispo data                 geo_point_2d  \\\n",
       "0          2019-06-01  48.8715358799,2.30172279246   \n",
       "1          2019-06-01  48.8715358799,2.30172279246   \n",
       "2          2019-06-01  48.8715358799,2.30172279246   \n",
       "3          2019-06-01  48.8715358799,2.30172279246   \n",
       "4          2019-06-01  48.8715358799,2.30172279246   \n",
       "\n",
       "                                           geo_shape  \n",
       "0  {\"type\": \"LineString\", \"coordinates\": [[2.3009...  \n",
       "1  {\"type\": \"LineString\", \"coordinates\": [[2.3009...  \n",
       "2  {\"type\": \"LineString\", \"coordinates\": [[2.3009...  \n",
       "3  {\"type\": \"LineString\", \"coordinates\": [[2.3009...  \n",
       "4  {\"type\": \"LineString\", \"coordinates\": [[2.3009...  "
      ],
      "text/html": "<div>\n<style scoped>\n    .dataframe tbody tr th:only-of-type {\n        vertical-align: middle;\n    }\n\n    .dataframe tbody tr th {\n        vertical-align: top;\n    }\n\n    .dataframe thead th {\n        text-align: right;\n    }\n</style>\n<table border=\"1\" class=\"dataframe\">\n  <thead>\n    <tr style=\"text-align: right;\">\n      <th></th>\n      <th>Identifiant arc</th>\n      <th>Libelle</th>\n      <th>Date et heure de comptage</th>\n      <th>Débit horaire</th>\n      <th>Taux d'occupation</th>\n      <th>Etat trafic</th>\n      <th>Identifiant noeud amont</th>\n      <th>Libelle noeud amont</th>\n      <th>Identifiant noeud aval</th>\n      <th>Libelle noeud aval</th>\n      <th>Etat arc</th>\n      <th>Date debut dispo data</th>\n      <th>Date fin dispo data</th>\n      <th>geo_point_2d</th>\n      <th>geo_shape</th>\n    </tr>\n  </thead>\n  <tbody>\n    <tr>\n      <th>0</th>\n      <td>4264</td>\n      <td>AV_Champs_Elysees</td>\n      <td>2020-11-02 05:00:00+01:00</td>\n      <td>144.0</td>\n      <td>2.25611</td>\n      <td>Fluide</td>\n      <td>2294</td>\n      <td>Av_Champs_Elysees-Washington</td>\n      <td>2293</td>\n      <td>Av_Champs_Elysees-Berri</td>\n      <td>Invalide</td>\n      <td>2005-01-01</td>\n      <td>2019-06-01</td>\n      <td>48.8715358799,2.30172279246</td>\n      <td>{\"type\": \"LineString\", \"coordinates\": [[2.3009...</td>\n    </tr>\n    <tr>\n      <th>1</th>\n      <td>4264</td>\n      <td>AV_Champs_Elysees</td>\n      <td>2020-11-01 23:00:00+01:00</td>\n      <td>245.0</td>\n      <td>8.11222</td>\n      <td>Fluide</td>\n      <td>2294</td>\n      <td>Av_Champs_Elysees-Washington</td>\n      <td>2293</td>\n      <td>Av_Champs_Elysees-Berri</td>\n      <td>Invalide</td>\n      <td>2005-01-01</td>\n      <td>2019-06-01</td>\n      <td>48.8715358799,2.30172279246</td>\n      <td>{\"type\": \"LineString\", \"coordinates\": [[2.3009...</td>\n    </tr>\n    <tr>\n      <th>2</th>\n      <td>4264</td>\n      <td>AV_Champs_Elysees</td>\n      <td>2020-07-01 16:00:00+02:00</td>\n      <td>1138.0</td>\n      <td>17.86611</td>\n      <td>Pré-saturé</td>\n      <td>2294</td>\n      <td>Av_Champs_Elysees-Washington</td>\n      <td>2293</td>\n      <td>Av_Champs_Elysees-Berri</td>\n      <td>Invalide</td>\n      <td>2005-01-01</td>\n      <td>2019-06-01</td>\n      <td>48.8715358799,2.30172279246</td>\n      <td>{\"type\": \"LineString\", \"coordinates\": [[2.3009...</td>\n    </tr>\n    <tr>\n      <th>3</th>\n      <td>4264</td>\n      <td>AV_Champs_Elysees</td>\n      <td>2020-07-01 22:00:00+02:00</td>\n      <td>880.0</td>\n      <td>16.03611</td>\n      <td>Pré-saturé</td>\n      <td>2294</td>\n      <td>Av_Champs_Elysees-Washington</td>\n      <td>2293</td>\n      <td>Av_Champs_Elysees-Berri</td>\n      <td>Invalide</td>\n      <td>2005-01-01</td>\n      <td>2019-06-01</td>\n      <td>48.8715358799,2.30172279246</td>\n      <td>{\"type\": \"LineString\", \"coordinates\": [[2.3009...</td>\n    </tr>\n    <tr>\n      <th>4</th>\n      <td>4264</td>\n      <td>AV_Champs_Elysees</td>\n      <td>2020-08-05 03:00:00+02:00</td>\n      <td>487.0</td>\n      <td>6.35389</td>\n      <td>Fluide</td>\n      <td>2294</td>\n      <td>Av_Champs_Elysees-Washington</td>\n      <td>2293</td>\n      <td>Av_Champs_Elysees-Berri</td>\n      <td>Invalide</td>\n      <td>2005-01-01</td>\n      <td>2019-06-01</td>\n      <td>48.8715358799,2.30172279246</td>\n      <td>{\"type\": \"LineString\", \"coordinates\": [[2.3009...</td>\n    </tr>\n  </tbody>\n</table>\n</div>"
     },
     "metadata": {},
     "execution_count": 68
    }
   ],
   "source": [
    "import pandas as pd\n",
    "import seaborn as sns\n",
    "\n",
    "df_washington = pd.read_csv(\"washington.csv\", sep = \";\")\n",
    "df_convention = pd.read_csv(\"convention.csv\", sep = \";\")\n",
    "# df_sts = pd.read_csv(\"sts.csv\", sep = \";\")\n",
    "\n",
    "def filter(df,amont,aval):\n",
    "    df = df[df[\"Libelle noeud amont\"]==amont]\n",
    "    df = df[df[\"Libelle noeud aval\"]==aval]\n",
    "    return df\n",
    "\n",
    "def set_date(df):\n",
    "    df[\"Date et heure de comptage\"] = pd.to_datetime(df_washington[\"Date et heure de comptage\"],format='%Y-%m-%dT%H:%M:%S%z')\n",
    "    return df\n",
    "\n",
    "\n",
    "df_washington = filter(df_washington,\"Av_Champs_Elysees-Washington\",\"Av_Champs_Elysees-Berri\")\n",
    "df_washington = set_date(df_washington)\n",
    "# df_sts = filter(df_sts,\"Lecourbe-Convention\",\"Convention-Blomet\")\n",
    "# df_convention = filter(df_convention,\"Sts_Peres-Voltaire\",\"Sts_Peres-Universite\")\n",
    "\n",
    "df_washington.head()\n"
   ]
  },
  {
   "cell_type": "code",
   "execution_count": 1,
   "metadata": {},
   "outputs": [
    {
     "output_type": "stream",
     "name": "stdout",
     "text": [
      "test\n"
     ]
    }
   ],
   "source": [
    "print(\"test\")\n"
   ]
  },
  {
   "cell_type": "code",
   "execution_count": 31,
   "metadata": {},
   "outputs": [
    {
     "output_type": "execute_result",
     "data": {
      "text/plain": [
       "'2020-11-02T05:00:00+01:00'"
      ]
     },
     "metadata": {},
     "execution_count": 31
    }
   ],
   "source": [
    "test = df_washington[\"Date et heure de comptage\"][0]\n",
    "test"
   ]
  },
  {
   "cell_type": "code",
   "execution_count": 67,
   "metadata": {},
   "outputs": [
    {
     "output_type": "stream",
     "name": "stdout",
     "text": [
      "2020-11-02T05:00:00+0100\n"
     ]
    }
   ],
   "source": [
    "clean_test = \":\".join(test.split(\":\")[:-1])+test.split(\":\")[-1]\n",
    "# clean_test = clean_test.replace(\"T\",\":\")\n",
    "# clean_test = clean_test.replace(\"+\",\":+\")\n",
    "print(clean_test)"
   ]
  },
  {
   "cell_type": "code",
   "execution_count": null,
   "metadata": {},
   "outputs": [],
   "source": [
    "from datetime import datetime\n",
    "datetime.strptime(clean_test,)"
   ]
  },
  {
   "cell_type": "code",
   "execution_count": 62,
   "metadata": {},
   "outputs": [
    {
     "output_type": "execute_result",
     "data": {
      "text/plain": [
       "Timestamp('2020-11-02 05:00:00+0100', tz='pytz.FixedOffset(60)')"
      ]
     },
     "metadata": {},
     "execution_count": 62
    }
   ],
   "source": [
    "pd.to_datetime(test,format='%Y-%m-%dT%H:%M:%S%z')"
   ]
  },
  {
   "cell_type": "code",
   "execution_count": 65,
   "metadata": {},
   "outputs": [
    {
     "output_type": "execute_result",
     "data": {
      "text/plain": [
       "0       2020-11-02 05:00:00+01:00\n",
       "1       2020-11-01 23:00:00+01:00\n",
       "2       2020-07-01 16:00:00+02:00\n",
       "3       2020-07-01 22:00:00+02:00\n",
       "4       2020-08-05 03:00:00+02:00\n",
       "                  ...            \n",
       "9423    2020-05-31 20:00:00+02:00\n",
       "9424    2020-06-01 02:00:00+02:00\n",
       "9425    2020-06-01 04:00:00+02:00\n",
       "9426    2020-06-01 01:00:00+02:00\n",
       "9427    2020-06-01 03:00:00+02:00\n",
       "Name: Date et heure de comptage, Length: 9428, dtype: object"
      ]
     },
     "metadata": {},
     "execution_count": 65
    }
   ],
   "source": [
    "pd.to_datetime(df_washington[\"Date et heure de comptage\"],format='%Y-%m-%dT%H:%M:%S%z')\n"
   ]
  },
  {
   "cell_type": "code",
   "execution_count": 20,
   "metadata": {},
   "outputs": [
    {
     "output_type": "execute_result",
     "data": {
      "text/plain": [
       "      Identifiant arc            Libelle  Date et heure de comptage  \\\n",
       "7450             4264  AV_Champs_Elysees  2020-11-30T00:00:00+01:00   \n",
       "7549             4264  AV_Champs_Elysees  2020-11-29T23:00:00+01:00   \n",
       "7548             4264  AV_Champs_Elysees  2020-11-29T22:00:00+01:00   \n",
       "7449             4264  AV_Champs_Elysees  2020-11-29T21:00:00+01:00   \n",
       "7547             4264  AV_Champs_Elysees  2020-11-29T20:00:00+01:00   \n",
       "...               ...                ...                        ...   \n",
       "2608             4264  AV_Champs_Elysees  2019-11-01T08:00:00+01:00   \n",
       "2607             4264  AV_Champs_Elysees  2019-11-01T07:00:00+01:00   \n",
       "6714             4264  AV_Champs_Elysees  2019-11-01T06:00:00+01:00   \n",
       "6713             4264  AV_Champs_Elysees  2019-11-01T05:00:00+01:00   \n",
       "6712             4264  AV_Champs_Elysees  2019-11-01T04:00:00+01:00   \n",
       "\n",
       "      Débit horaire  Taux d'occupation Etat trafic  Identifiant noeud amont  \\\n",
       "7450          111.0            1.16333      Fluide                     2294   \n",
       "7549          218.0            2.11500      Fluide                     2294   \n",
       "7548          391.0            4.38000      Fluide                     2294   \n",
       "7449          568.0            7.50778      Fluide                     2294   \n",
       "7547          859.0           13.09667      Fluide                     2294   \n",
       "...             ...                ...         ...                      ...   \n",
       "2608          525.0            5.37389      Fluide                     2294   \n",
       "2607          500.0            4.75500      Fluide                     2294   \n",
       "6714          503.0            7.66667      Fluide                     2294   \n",
       "6713          549.0            7.40722      Fluide                     2294   \n",
       "6712          746.0           10.98889      Fluide                     2294   \n",
       "\n",
       "               Libelle noeud amont  Identifiant noeud aval  \\\n",
       "7450  Av_Champs_Elysees-Washington                    2293   \n",
       "7549  Av_Champs_Elysees-Washington                    2293   \n",
       "7548  Av_Champs_Elysees-Washington                    2293   \n",
       "7449  Av_Champs_Elysees-Washington                    2293   \n",
       "7547  Av_Champs_Elysees-Washington                    2293   \n",
       "...                            ...                     ...   \n",
       "2608  Av_Champs_Elysees-Washington                    2293   \n",
       "2607  Av_Champs_Elysees-Washington                    2293   \n",
       "6714  Av_Champs_Elysees-Washington                    2293   \n",
       "6713  Av_Champs_Elysees-Washington                    2293   \n",
       "6712  Av_Champs_Elysees-Washington                    2293   \n",
       "\n",
       "           Libelle noeud aval  Etat arc Date debut dispo data  \\\n",
       "7450  Av_Champs_Elysees-Berri  Invalide            2005-01-01   \n",
       "7549  Av_Champs_Elysees-Berri  Invalide            2005-01-01   \n",
       "7548  Av_Champs_Elysees-Berri  Invalide            2005-01-01   \n",
       "7449  Av_Champs_Elysees-Berri  Invalide            2005-01-01   \n",
       "7547  Av_Champs_Elysees-Berri  Invalide            2005-01-01   \n",
       "...                       ...       ...                   ...   \n",
       "2608  Av_Champs_Elysees-Berri  Invalide            2005-01-01   \n",
       "2607  Av_Champs_Elysees-Berri  Invalide            2005-01-01   \n",
       "6714  Av_Champs_Elysees-Berri  Invalide            2005-01-01   \n",
       "6713  Av_Champs_Elysees-Berri  Invalide            2005-01-01   \n",
       "6712  Av_Champs_Elysees-Berri  Invalide            2005-01-01   \n",
       "\n",
       "     Date fin dispo data                 geo_point_2d  \\\n",
       "7450          2019-06-01  48.8715358799,2.30172279246   \n",
       "7549          2019-06-01  48.8715358799,2.30172279246   \n",
       "7548          2019-06-01  48.8715358799,2.30172279246   \n",
       "7449          2019-06-01  48.8715358799,2.30172279246   \n",
       "7547          2019-06-01  48.8715358799,2.30172279246   \n",
       "...                  ...                          ...   \n",
       "2608          2019-06-01  48.8715358799,2.30172279246   \n",
       "2607          2019-06-01  48.8715358799,2.30172279246   \n",
       "6714          2019-06-01  48.8715358799,2.30172279246   \n",
       "6713          2019-06-01  48.8715358799,2.30172279246   \n",
       "6712          2019-06-01  48.8715358799,2.30172279246   \n",
       "\n",
       "                                              geo_shape  \n",
       "7450  {\"type\": \"LineString\", \"coordinates\": [[2.3009...  \n",
       "7549  {\"type\": \"LineString\", \"coordinates\": [[2.3009...  \n",
       "7548  {\"type\": \"LineString\", \"coordinates\": [[2.3009...  \n",
       "7449  {\"type\": \"LineString\", \"coordinates\": [[2.3009...  \n",
       "7547  {\"type\": \"LineString\", \"coordinates\": [[2.3009...  \n",
       "...                                                 ...  \n",
       "2608  {\"type\": \"LineString\", \"coordinates\": [[2.3009...  \n",
       "2607  {\"type\": \"LineString\", \"coordinates\": [[2.3009...  \n",
       "6714  {\"type\": \"LineString\", \"coordinates\": [[2.3009...  \n",
       "6713  {\"type\": \"LineString\", \"coordinates\": [[2.3009...  \n",
       "6712  {\"type\": \"LineString\", \"coordinates\": [[2.3009...  \n",
       "\n",
       "[9428 rows x 15 columns]"
      ],
      "text/html": "<div>\n<style scoped>\n    .dataframe tbody tr th:only-of-type {\n        vertical-align: middle;\n    }\n\n    .dataframe tbody tr th {\n        vertical-align: top;\n    }\n\n    .dataframe thead th {\n        text-align: right;\n    }\n</style>\n<table border=\"1\" class=\"dataframe\">\n  <thead>\n    <tr style=\"text-align: right;\">\n      <th></th>\n      <th>Identifiant arc</th>\n      <th>Libelle</th>\n      <th>Date et heure de comptage</th>\n      <th>Débit horaire</th>\n      <th>Taux d'occupation</th>\n      <th>Etat trafic</th>\n      <th>Identifiant noeud amont</th>\n      <th>Libelle noeud amont</th>\n      <th>Identifiant noeud aval</th>\n      <th>Libelle noeud aval</th>\n      <th>Etat arc</th>\n      <th>Date debut dispo data</th>\n      <th>Date fin dispo data</th>\n      <th>geo_point_2d</th>\n      <th>geo_shape</th>\n    </tr>\n  </thead>\n  <tbody>\n    <tr>\n      <th>7450</th>\n      <td>4264</td>\n      <td>AV_Champs_Elysees</td>\n      <td>2020-11-30T00:00:00+01:00</td>\n      <td>111.0</td>\n      <td>1.16333</td>\n      <td>Fluide</td>\n      <td>2294</td>\n      <td>Av_Champs_Elysees-Washington</td>\n      <td>2293</td>\n      <td>Av_Champs_Elysees-Berri</td>\n      <td>Invalide</td>\n      <td>2005-01-01</td>\n      <td>2019-06-01</td>\n      <td>48.8715358799,2.30172279246</td>\n      <td>{\"type\": \"LineString\", \"coordinates\": [[2.3009...</td>\n    </tr>\n    <tr>\n      <th>7549</th>\n      <td>4264</td>\n      <td>AV_Champs_Elysees</td>\n      <td>2020-11-29T23:00:00+01:00</td>\n      <td>218.0</td>\n      <td>2.11500</td>\n      <td>Fluide</td>\n      <td>2294</td>\n      <td>Av_Champs_Elysees-Washington</td>\n      <td>2293</td>\n      <td>Av_Champs_Elysees-Berri</td>\n      <td>Invalide</td>\n      <td>2005-01-01</td>\n      <td>2019-06-01</td>\n      <td>48.8715358799,2.30172279246</td>\n      <td>{\"type\": \"LineString\", \"coordinates\": [[2.3009...</td>\n    </tr>\n    <tr>\n      <th>7548</th>\n      <td>4264</td>\n      <td>AV_Champs_Elysees</td>\n      <td>2020-11-29T22:00:00+01:00</td>\n      <td>391.0</td>\n      <td>4.38000</td>\n      <td>Fluide</td>\n      <td>2294</td>\n      <td>Av_Champs_Elysees-Washington</td>\n      <td>2293</td>\n      <td>Av_Champs_Elysees-Berri</td>\n      <td>Invalide</td>\n      <td>2005-01-01</td>\n      <td>2019-06-01</td>\n      <td>48.8715358799,2.30172279246</td>\n      <td>{\"type\": \"LineString\", \"coordinates\": [[2.3009...</td>\n    </tr>\n    <tr>\n      <th>7449</th>\n      <td>4264</td>\n      <td>AV_Champs_Elysees</td>\n      <td>2020-11-29T21:00:00+01:00</td>\n      <td>568.0</td>\n      <td>7.50778</td>\n      <td>Fluide</td>\n      <td>2294</td>\n      <td>Av_Champs_Elysees-Washington</td>\n      <td>2293</td>\n      <td>Av_Champs_Elysees-Berri</td>\n      <td>Invalide</td>\n      <td>2005-01-01</td>\n      <td>2019-06-01</td>\n      <td>48.8715358799,2.30172279246</td>\n      <td>{\"type\": \"LineString\", \"coordinates\": [[2.3009...</td>\n    </tr>\n    <tr>\n      <th>7547</th>\n      <td>4264</td>\n      <td>AV_Champs_Elysees</td>\n      <td>2020-11-29T20:00:00+01:00</td>\n      <td>859.0</td>\n      <td>13.09667</td>\n      <td>Fluide</td>\n      <td>2294</td>\n      <td>Av_Champs_Elysees-Washington</td>\n      <td>2293</td>\n      <td>Av_Champs_Elysees-Berri</td>\n      <td>Invalide</td>\n      <td>2005-01-01</td>\n      <td>2019-06-01</td>\n      <td>48.8715358799,2.30172279246</td>\n      <td>{\"type\": \"LineString\", \"coordinates\": [[2.3009...</td>\n    </tr>\n    <tr>\n      <th>...</th>\n      <td>...</td>\n      <td>...</td>\n      <td>...</td>\n      <td>...</td>\n      <td>...</td>\n      <td>...</td>\n      <td>...</td>\n      <td>...</td>\n      <td>...</td>\n      <td>...</td>\n      <td>...</td>\n      <td>...</td>\n      <td>...</td>\n      <td>...</td>\n      <td>...</td>\n    </tr>\n    <tr>\n      <th>2608</th>\n      <td>4264</td>\n      <td>AV_Champs_Elysees</td>\n      <td>2019-11-01T08:00:00+01:00</td>\n      <td>525.0</td>\n      <td>5.37389</td>\n      <td>Fluide</td>\n      <td>2294</td>\n      <td>Av_Champs_Elysees-Washington</td>\n      <td>2293</td>\n      <td>Av_Champs_Elysees-Berri</td>\n      <td>Invalide</td>\n      <td>2005-01-01</td>\n      <td>2019-06-01</td>\n      <td>48.8715358799,2.30172279246</td>\n      <td>{\"type\": \"LineString\", \"coordinates\": [[2.3009...</td>\n    </tr>\n    <tr>\n      <th>2607</th>\n      <td>4264</td>\n      <td>AV_Champs_Elysees</td>\n      <td>2019-11-01T07:00:00+01:00</td>\n      <td>500.0</td>\n      <td>4.75500</td>\n      <td>Fluide</td>\n      <td>2294</td>\n      <td>Av_Champs_Elysees-Washington</td>\n      <td>2293</td>\n      <td>Av_Champs_Elysees-Berri</td>\n      <td>Invalide</td>\n      <td>2005-01-01</td>\n      <td>2019-06-01</td>\n      <td>48.8715358799,2.30172279246</td>\n      <td>{\"type\": \"LineString\", \"coordinates\": [[2.3009...</td>\n    </tr>\n    <tr>\n      <th>6714</th>\n      <td>4264</td>\n      <td>AV_Champs_Elysees</td>\n      <td>2019-11-01T06:00:00+01:00</td>\n      <td>503.0</td>\n      <td>7.66667</td>\n      <td>Fluide</td>\n      <td>2294</td>\n      <td>Av_Champs_Elysees-Washington</td>\n      <td>2293</td>\n      <td>Av_Champs_Elysees-Berri</td>\n      <td>Invalide</td>\n      <td>2005-01-01</td>\n      <td>2019-06-01</td>\n      <td>48.8715358799,2.30172279246</td>\n      <td>{\"type\": \"LineString\", \"coordinates\": [[2.3009...</td>\n    </tr>\n    <tr>\n      <th>6713</th>\n      <td>4264</td>\n      <td>AV_Champs_Elysees</td>\n      <td>2019-11-01T05:00:00+01:00</td>\n      <td>549.0</td>\n      <td>7.40722</td>\n      <td>Fluide</td>\n      <td>2294</td>\n      <td>Av_Champs_Elysees-Washington</td>\n      <td>2293</td>\n      <td>Av_Champs_Elysees-Berri</td>\n      <td>Invalide</td>\n      <td>2005-01-01</td>\n      <td>2019-06-01</td>\n      <td>48.8715358799,2.30172279246</td>\n      <td>{\"type\": \"LineString\", \"coordinates\": [[2.3009...</td>\n    </tr>\n    <tr>\n      <th>6712</th>\n      <td>4264</td>\n      <td>AV_Champs_Elysees</td>\n      <td>2019-11-01T04:00:00+01:00</td>\n      <td>746.0</td>\n      <td>10.98889</td>\n      <td>Fluide</td>\n      <td>2294</td>\n      <td>Av_Champs_Elysees-Washington</td>\n      <td>2293</td>\n      <td>Av_Champs_Elysees-Berri</td>\n      <td>Invalide</td>\n      <td>2005-01-01</td>\n      <td>2019-06-01</td>\n      <td>48.8715358799,2.30172279246</td>\n      <td>{\"type\": \"LineString\", \"coordinates\": [[2.3009...</td>\n    </tr>\n  </tbody>\n</table>\n<p>9428 rows × 15 columns</p>\n</div>"
     },
     "metadata": {},
     "execution_count": 20
    }
   ],
   "source": [
    "df_washington.sort_values(\"Date et heure de comptage\",ascending = False)"
   ]
  },
  {
   "cell_type": "code",
   "execution_count": null,
   "metadata": {},
   "outputs": [],
   "source": []
  }
 ]
}